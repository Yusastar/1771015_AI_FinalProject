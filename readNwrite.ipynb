{
 "cells": [
  {
   "cell_type": "code",
   "execution_count": 1,
   "metadata": {},
   "outputs": [
    {
     "name": "stdout",
     "output_type": "stream",
     "text": [
      "Requirement already satisfied: gtts in c:\\users\\kimyujin\\anaconda3\\lib\\site-packages (2.1.1)\n",
      "Requirement already satisfied: six in c:\\users\\kimyujin\\anaconda3\\lib\\site-packages (from gtts) (1.14.0)\n",
      "Requirement already satisfied: gtts-token>=1.1.3 in c:\\users\\kimyujin\\anaconda3\\lib\\site-packages (from gtts) (1.1.3)\n",
      "Requirement already satisfied: beautifulsoup4 in c:\\users\\kimyujin\\anaconda3\\lib\\site-packages (from gtts) (4.6.0)\n",
      "Requirement already satisfied: click in c:\\users\\kimyujin\\anaconda3\\lib\\site-packages (from gtts) (7.0)\n",
      "Requirement already satisfied: requests in c:\\users\\kimyujin\\anaconda3\\lib\\site-packages (from gtts) (2.22.0)\n",
      "Requirement already satisfied: certifi>=2017.4.17 in c:\\users\\kimyujin\\anaconda3\\lib\\site-packages (from requests->gtts) (2019.11.28)\n",
      "Requirement already satisfied: urllib3!=1.25.0,!=1.25.1,<1.26,>=1.21.1 in c:\\users\\kimyujin\\anaconda3\\lib\\site-packages (from requests->gtts) (1.25.8)\n",
      "Requirement already satisfied: chardet<3.1.0,>=3.0.2 in c:\\users\\kimyujin\\anaconda3\\lib\\site-packages (from requests->gtts) (3.0.4)\n",
      "Requirement already satisfied: idna<2.9,>=2.5 in c:\\users\\kimyujin\\anaconda3\\lib\\site-packages (from requests->gtts) (2.8)\n",
      "Requirement already satisfied: pygame in c:\\users\\kimyujin\\anaconda3\\lib\\site-packages (1.9.6)\n"
     ]
    }
   ],
   "source": [
    "!pip install gtts\n",
    "!pip install pygame "
   ]
  },
  {
   "cell_type": "code",
   "execution_count": 2,
   "metadata": {},
   "outputs": [
    {
     "name": "stdout",
     "output_type": "stream",
     "text": [
      "pygame 1.9.6\n",
      "Hello from the pygame community. https://www.pygame.org/contribute.html\n"
     ]
    }
   ],
   "source": [
    "from gtts import gTTS\n",
    "from pygame import mixer\n",
    "import nltk\n",
    "from nltk.tokenize import sent_tokenize \n",
    "import re\n",
    "from nltk.corpus import *\n",
    "import random\n",
    "import string"
   ]
  },
  {
   "cell_type": "code",
   "execution_count": 3,
   "metadata": {},
   "outputs": [],
   "source": [
    "corpus_root = r'C:\\Users\\kimyujin\\Desktop\\2020 3-2학기\\인공지능\\sentence_tokenized'\n",
    "gniCorpus = PlaintextCorpusReader(corpus_root,'.*\\.txt',encoding='utf-8')"
   ]
  },
  {
   "cell_type": "code",
   "execution_count": 4,
   "metadata": {},
   "outputs": [
    {
     "name": "stdout",
     "output_type": "stream",
     "text": [
      "(1) 논문 읽기 (2) 논문 오디오파일 저장하기 (3) 취소\n",
      "    중에서 하나를 선택하세요.\n",
      "EX)1\n",
      "\n",
      "1\n"
     ]
    }
   ],
   "source": [
    "UserWant=input('(1) 논문 읽기 (2) 논문 오디오파일 저장하기 (3) 취소\\n    중에서 하나를 선택하세요.\\nEX)1\\n\\n')\n",
    "#논문읽기, 오디오파일저장하기 중 어떤 작업을 원하는지 묻기"
   ]
  },
  {
   "cell_type": "code",
   "execution_count": 1,
   "metadata": {},
   "outputs": [],
   "source": [
    "def ReadPaper():  #논문을 4문장 단위로 바로 읽어줍니다.\n",
    "    while True:\n",
    "        whichone=input('어떤 논문을 읽어드릴까요?\\nEX) gni-16-3-59\\n\\n') #읽어주길 원하는 논문 입력받기\n",
    "        whichone+='.txt'\n",
    "        if whichone in gniCorpus.fileids():\n",
    "            break\n",
    "        else:   #사용자가 잘못된 논문을 입력했다면\n",
    "            print('해당 논문은 존재하지 않습니다. 다시 입력해주세요\\n')\n",
    "    \n",
    "    gniraws = gniCorpus.raw(whichone)  #사용자가 원하는 논문을 raw처리 함\n",
    "    language='en'\n",
    "    sent_token_raw=sent_tokenize(gniraws)  #gniraws를 sent_tokenize함\n",
    "    base=0\n",
    "    wants='1'  #초기 wants값은 1로 둔다.\n",
    "    \n",
    "    while True:\n",
    "        if(wants=='1'):  #사용자가 계속 읽기를 원하면\n",
    "            print('잠시만 기다려주세요.\\n')\n",
    "            partOfRaw=''\n",
    "            if (base+4)<=len(sent_token_raw): #4문장씩 읽을 때, 마지막 4번째 문장이 논문의 범위를 넘어나지 않으면\n",
    "                for i in range(base,base+4):\n",
    "                    partOfRaw+=sent_token_raw[i]+' '  #partOfRaw에 읽을 4문장을 저장한다.\n",
    "            else:    #4문장씩 읽을 때, 마지막 4번째 문장이 논문의 범위를 벗어나면\n",
    "                for i in range(base, len(sent_token_raw)):   #마지막 문장까지를 읽도록 한다.\n",
    "                    partOfRaw+=sent_token_raw[i]+' '\n",
    "                \n",
    "            YujinRecog=gTTS(text=partOfRaw, lang=language, slow=False) #tts로 변환\n",
    "            randomPath=''.join(random.choice(string.ascii_uppercase + string.digits) for _ in range(6))\n",
    "            paths=\"\"\".\\\\\"\"\"+randomPath+'.mp3'  #readNwrite.ipynb와 같은 위치에 random path를 지정하고, \n",
    "            \n",
    "            YujinRecog.save(paths)   #YujinRecog를 해당 위치에 mp3로 저장한다.\n",
    "            \n",
    "            mixer.init()\n",
    "            mixer.music.load(paths)\n",
    "            mixer.music.play()\n",
    "            base=base+4\n",
    "            if(base>=len(sent_token_raw)):\n",
    "                break\n",
    "            wants=input('4문장씩 읽어드립니다. 4문장 이후, 해당 논문을 더 읽어주길 원하면 1, 그렇지 않으면 2을 입력하세요\\n')\n",
    "            #사용자로부터 더 읽어주길 원하는지, 그만두길 원하는지 입력받는다.\n",
    "            \n",
    "        elif(wants=='2'):  #사용자가 그만 읽어주길 원하면\n",
    "            print('더 읽지 않길 원하시는군요! 알겠습니다. 읽고있던 4문장 이후에 더 읽지 않겠습니다.') #더이상 읽지 않는다.\n",
    "            break\n",
    "            \n",
    "        else:  #사용자가 1,2 외의 잘못된 값을 입력하면\n",
    "            print('다시 입력해 주세요')"
   ]
  },
  {
   "cell_type": "code",
   "execution_count": 6,
   "metadata": {},
   "outputs": [],
   "source": [
    "def SaveFile():  #5문장 단위로 논문 오디오파일을 만들어줍니다. \n",
    "    really=input('해당 작업은 논문 길이에 따라 2분 이상이 소요될 수도 있습니다. 계속 진행하시겠습니까?\\n계속 진행하려면 yes를, 홈으로 돌아가시려면 no를 입력해주세요.')\n",
    "    #사용자가 오디오파일을 그래도 생성하길 원하면\n",
    "    if (really.upper()=='YES'):\n",
    "        while True:\n",
    "            whichone=input('어떤 논문의 오디오파일을 저장할까요?\\nEX) gni-16-3-59\\n\\n') \n",
    "            #오디오로 변환하고자하는 논문을 입력받는다.\n",
    "            whichone+='.txt'\n",
    "            if whichone in gniCorpus.fileids():\n",
    "                break\n",
    "            else:  #사용자가 논문을 잘못입력했다면\n",
    "                print('해당 논문은 존재하지 않습니다. 다시 입력해주세요\\n')\n",
    "    \n",
    "        gniraws = gniCorpus.raw(whichone)  #사용자가 입력한 논문에 raw()를 적용함\n",
    "        language='en'\n",
    "        sent_token_raw=sent_tokenize(gniraws) #문장단위로 나눠줌\n",
    "        base=0\n",
    "        wants='1' #사용자가 계속하길 원하는지 그만하길 원하는지 입력받는 변수 wants를 선언한다.\n",
    "        Filename=input('파일명은 무엇으로 할까요? 현재 디렉토리에 존재하지 않는 새로운 파일명을 입력하세요.\\n')\n",
    "        #저장할 오디오파일의 이름을 사용자로부터 입력받아\n",
    "        leest=[]\n",
    "        leest.append(Filename)  #leest에 저장함\n",
    "    \n",
    "        while True:\n",
    "            if(wants=='1'): #사용자가 계속 오디오파일을 생성하길 원한다면,\n",
    "                partOfRaw=''\n",
    "                if (base+5)<=len(sent_token_raw):  #5문장씩 끊었을 때, 마지막 문장이 논문 문장 수의 범위를 넘어가지 않으면\n",
    "                    for i in range(base,base+5):\n",
    "                        partOfRaw+=sent_token_raw[i]+' ' #읽을 문장을 partOfRaw에 저장한다.\n",
    "                else:\n",
    "                    for i in range(base, len(sent_token_raw)):  #범위를 넘어가면 마지막 문장까지 \n",
    "                        partOfRaw+=sent_token_raw[i]+' '   #partOfRaw에 저장한다.\n",
    "                \n",
    "                YujinRecog=gTTS(text=partOfRaw, lang=language, slow=False) #tts로 변환하여 YujinRecog에 저장한다.\n",
    "                \n",
    "                paths=\"\"\".\\\\\"\"\"+leest[-1]+'.mp3'   #readNwrite와 같은 위치에 유저가 설정한 파일이름으로 경로를 지정한다.\n",
    "                leest.append(leest[-1]+'_')  #파일들을 만들때마다 유저가 설정한 파일이름에 '_'를 붙여 저장한다.\n",
    "                YujinRecog.save(paths)  #YujinRecog를 해당 경로에 저장한다.\n",
    "\n",
    "                #mixer.init()\n",
    "                #mixer.music.load(paths)\n",
    "                #mixer.music.play()\n",
    "                base=base+5\n",
    "                if(base>=len(sent_token_raw)):\n",
    "                    break\n",
    "                wants=input('해당 논문의 '+str(round(((base/len(sent_token_raw))*100),3))+'% 를 오디오파일로 변환했습니다. 뒷부분을 더 변환하길 원하면 1, 그렇지 않으면 2을 입력하세요\\n')\n",
    "                #결과를 알려주고, 유저의 의사를 묻는다.\n",
    "                \n",
    "            elif(wants=='2'):\n",
    "                print('저장된 오디오파일들을 확인해보세요.\\n이제 오디오파일을 그만 생성하겠습니다.') #그만 생성한다.\n",
    "                break\n",
    "\n",
    "            else:  #wants가 1,2 외의 다른 값이면 다시 입력받는다.\n",
    "                print('다시 입력해 주세요')\n",
    "                wants=input('해당 논문의 '+str(round(((base/len(sent_token_raw))*100),3))+'% 를 오디오파일로 변환했습니다. 뒷부분을 더 변환하길 원하면 1, 그렇지 않으면 2을 입력하세요\\n')\n",
    "                \n",
    "    else: #오디오파일 생성을 원치않으면 중단하기\n",
    "        print('오디오파일 생성을 원치 않으시는군요! 오디오파일 생성을 중단합니다.')"
   ]
  },
  {
   "cell_type": "code",
   "execution_count": 7,
   "metadata": {},
   "outputs": [],
   "source": [
    "def readNwritestart(): #UserWant값에 따라 실행시킬 작업을 달리한다.\n",
    "    if (UserWant=='1'):\n",
    "        ReadPaper()\n",
    "    elif (UserWant=='2'):\n",
    "        SaveFile()\n",
    "    else:\n",
    "        print('아무작업도 원치 않으시는군요!')"
   ]
  },
  {
   "cell_type": "code",
   "execution_count": 8,
   "metadata": {},
   "outputs": [
    {
     "name": "stdout",
     "output_type": "stream",
     "text": [
      "어떤 논문을 읽어드릴까요?\n",
      "EX) gni-16-3-59\n",
      "\n",
      "gni-16-3-59\n",
      "4문장씩 읽어드립니다. 4문장 이후, 해당 논문을 더 읽어주길 원하면 1, 그렇지 않으면 2을 입력하세요\n",
      "2\n",
      "더 읽지 않길 원하시는군요! 알겠습니다. 읽고있던 4문장 이후에 더 읽지 않겠습니다.\n"
     ]
    }
   ],
   "source": [
    "readNwritestart()"
   ]
  },
  {
   "cell_type": "code",
   "execution_count": null,
   "metadata": {},
   "outputs": [],
   "source": []
  }
 ],
 "metadata": {
  "kernelspec": {
   "display_name": "Python 3",
   "language": "python",
   "name": "python3"
  },
  "language_info": {
   "codemirror_mode": {
    "name": "ipython",
    "version": 3
   },
   "file_extension": ".py",
   "mimetype": "text/x-python",
   "name": "python",
   "nbconvert_exporter": "python",
   "pygments_lexer": "ipython3",
   "version": "3.7.6"
  }
 },
 "nbformat": 4,
 "nbformat_minor": 4
}
