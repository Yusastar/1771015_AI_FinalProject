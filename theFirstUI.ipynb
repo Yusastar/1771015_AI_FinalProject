{
 "cells": [
  {
   "cell_type": "code",
   "execution_count": 1,
   "metadata": {},
   "outputs": [
    {
     "name": "stdout",
     "output_type": "stream",
     "text": [
      "Requirement already satisfied: gtts in c:\\users\\kimyujin\\anaconda3\\lib\\site-packages (2.1.1)\n",
      "Requirement already satisfied: six in c:\\users\\kimyujin\\anaconda3\\lib\\site-packages (from gtts) (1.14.0)\n",
      "Requirement already satisfied: requests in c:\\users\\kimyujin\\anaconda3\\lib\\site-packages (from gtts) (2.22.0)\n",
      "Requirement already satisfied: beautifulsoup4 in c:\\users\\kimyujin\\anaconda3\\lib\\site-packages (from gtts) (4.6.0)\n",
      "Requirement already satisfied: gtts-token>=1.1.3 in c:\\users\\kimyujin\\anaconda3\\lib\\site-packages (from gtts) (1.1.3)\n",
      "Requirement already satisfied: click in c:\\users\\kimyujin\\anaconda3\\lib\\site-packages (from gtts) (7.0)\n",
      "Requirement already satisfied: urllib3!=1.25.0,!=1.25.1,<1.26,>=1.21.1 in c:\\users\\kimyujin\\anaconda3\\lib\\site-packages (from requests->gtts) (1.25.8)\n",
      "Requirement already satisfied: chardet<3.1.0,>=3.0.2 in c:\\users\\kimyujin\\anaconda3\\lib\\site-packages (from requests->gtts) (3.0.4)\n",
      "Requirement already satisfied: certifi>=2017.4.17 in c:\\users\\kimyujin\\anaconda3\\lib\\site-packages (from requests->gtts) (2019.11.28)\n",
      "Requirement already satisfied: idna<2.9,>=2.5 in c:\\users\\kimyujin\\anaconda3\\lib\\site-packages (from requests->gtts) (2.8)\n",
      "Requirement already satisfied: pygame in c:\\users\\kimyujin\\anaconda3\\lib\\site-packages (1.9.6)\n",
      "Requirement already satisfied: wordcloud in c:\\users\\kimyujin\\anaconda3\\lib\\site-packages (1.7.0)\n",
      "Requirement already satisfied: pillow in c:\\users\\kimyujin\\anaconda3\\lib\\site-packages (from wordcloud) (7.0.0)\n",
      "Requirement already satisfied: numpy>=1.6.1 in c:\\users\\kimyujin\\anaconda3\\lib\\site-packages (from wordcloud) (1.18.1)\n",
      "Requirement already satisfied: matplotlib in c:\\users\\kimyujin\\anaconda3\\lib\\site-packages (from wordcloud) (3.1.3)\n",
      "Requirement already satisfied: python-dateutil>=2.1 in c:\\users\\kimyujin\\anaconda3\\lib\\site-packages (from matplotlib->wordcloud) (2.8.1)\n",
      "Requirement already satisfied: cycler>=0.10 in c:\\users\\kimyujin\\anaconda3\\lib\\site-packages (from matplotlib->wordcloud) (0.10.0)\n",
      "Requirement already satisfied: kiwisolver>=1.0.1 in c:\\users\\kimyujin\\anaconda3\\lib\\site-packages (from matplotlib->wordcloud) (1.1.0)\n",
      "Requirement already satisfied: pyparsing!=2.0.4,!=2.1.2,!=2.1.6,>=2.0.1 in c:\\users\\kimyujin\\anaconda3\\lib\\site-packages (from matplotlib->wordcloud) (2.4.6)\n",
      "Requirement already satisfied: six>=1.5 in c:\\users\\kimyujin\\anaconda3\\lib\\site-packages (from python-dateutil>=2.1->matplotlib->wordcloud) (1.14.0)\n",
      "Requirement already satisfied: setuptools in c:\\users\\kimyujin\\anaconda3\\lib\\site-packages (from kiwisolver>=1.0.1->matplotlib->wordcloud) (45.2.0.post20200210)\n",
      "Requirement already satisfied: pandas in c:\\users\\kimyujin\\anaconda3\\lib\\site-packages (1.0.1)\n",
      "Requirement already satisfied: numpy>=1.13.3 in c:\\users\\kimyujin\\anaconda3\\lib\\site-packages (from pandas) (1.18.1)\n",
      "Requirement already satisfied: python-dateutil>=2.6.1 in c:\\users\\kimyujin\\anaconda3\\lib\\site-packages (from pandas) (2.8.1)\n",
      "Requirement already satisfied: pytz>=2017.2 in c:\\users\\kimyujin\\anaconda3\\lib\\site-packages (from pandas) (2019.3)\n",
      "Requirement already satisfied: six>=1.5 in c:\\users\\kimyujin\\anaconda3\\lib\\site-packages (from python-dateutil>=2.6.1->pandas) (1.14.0)\n"
     ]
    }
   ],
   "source": [
    "!pip install gtts \n",
    "!pip install pygame \n",
    "!pip install wordcloud \n",
    "!pip install pandas "
   ]
  },
  {
   "cell_type": "code",
   "execution_count": 2,
   "metadata": {},
   "outputs": [
    {
     "name": "stdout",
     "output_type": "stream",
     "text": [
      "pygame 1.9.6\n",
      "Hello from the pygame community. https://www.pygame.org/contribute.html\n"
     ]
    }
   ],
   "source": [
    "import io\n",
    "import pygame\n",
    "from gtts import gTTS\n",
    "\n",
    "\n",
    "def speakEN(my_text):  #영어문장을 읽어주는 함수입니다.\n",
    "    with io.BytesIO() as f:\n",
    "        gTTS(text=my_text, lang='en').write_to_fp(f)\n",
    "        f.seek(0)\n",
    "        pygame.mixer.init()\n",
    "        pygame.mixer.music.load(f)\n",
    "        pygame.mixer.music.play()\n",
    "        while pygame.mixer.music.get_busy():\n",
    "            continue\n",
    "\n",
    "def speakKO(my_text):  #한국어문장을 읽어주는 함수입니다.\n",
    "    with io.BytesIO() as f:\n",
    "        gTTS(text=my_text, lang='ko').write_to_fp(f)\n",
    "        f.seek(0)\n",
    "        pygame.mixer.init()\n",
    "        pygame.mixer.music.load(f)\n",
    "        pygame.mixer.music.play()\n",
    "        while pygame.mixer.music.get_busy():\n",
    "            continue"
   ]
  },
  {
   "cell_type": "code",
   "execution_count": 3,
   "metadata": {},
   "outputs": [
    {
     "name": "stdout",
     "output_type": "stream",
     "text": [
      "Enter your name: 유진\n",
      "Welcome to one-stop GNI program 유진!\n"
     ]
    }
   ],
   "source": [
    "Username=input('Enter your name: ')  #Username을 입력받습니다. \n",
    "print('Welcome to one-stop GNI program '+Username+'!') #환영인사를 건넵니다.\n",
    "speakEN('Welcome to one-stop GNI program '+Username)  #유저 이름과 함께 환영의 말을 합니다."
   ]
  },
  {
   "cell_type": "code",
   "execution_count": 4,
   "metadata": {},
   "outputs": [
    {
     "name": "stdout",
     "output_type": "stream",
     "text": [
      "-- If you use Korean, type 안녕. \n",
      "-- If you use English, type Hello. \n",
      "\n",
      "\n",
      "Hello\n",
      "-- Hello 유진\n"
     ]
    }
   ],
   "source": [
    "print('-- If you use Korean, type 안녕. \\n-- If you use English, type Hello. \\n\\n')\n",
    "speakEN('If you use Korean, type 안녕. If you use English, type Hello.')  #유저의 언어가 한국어인지 영어인지 물어보는 질문입니다.\n",
    "language=input('')\n",
    "\n",
    "\n",
    "\n",
    "while True:\n",
    "    if language=='안녕':  #만약 유저가 한국어를 쓴다면, \n",
    "        lan='Ko'\n",
    "        print('-- 안녕하세요 '+Username+'님')\n",
    "        speakKO('-- 안녕하세요 '+Username+'님')  #한국어로 인사합니다.\n",
    "        break\n",
    "    elif (language.upper()=='HELLO'):   #만약 유저가 영어를 쓴다면,\n",
    "        lan='EN'\n",
    "        print('-- Hello '+Username)\n",
    "        speakEN('-- Hello '+Username)  #영어로 인사합니다.\n",
    "        break\n",
    "    else:\n",
    "        print('-- Your input is wrong. Please try again.\\n')   #안녕과 hello 를 제대로 입력하지 않았다면 다시 묻습니다.\n",
    "        language=input('-- If you use Korean, type 안녕. \\n-- If you use English, type Hello. \\n\\n')"
   ]
  },
  {
   "cell_type": "code",
   "execution_count": 7,
   "metadata": {},
   "outputs": [],
   "source": [
    "def selectionKo():  #어떤 기능을 쓸지 물어보는 함수입니다. 추후 구현한 다른 기능들을 이 함수를 통해 실행시킬 수 있도록 할 예정입니다.\n",
    "    while True:\n",
    "        print('1- 논문 트렌드 워드클라우드 및 트렌트 키워드를 연구한 논문 원본 보기\\n2- 논문 읽어주기 및 오디오파일 만들기\\n3- 논문 주제 polarity 분석\\n4- 논문 주제 별 분포도 보기\\n')\n",
    "        selection=input('어떤 작업을 하길 원하시나요? 원하는 작업의 번호를 입력해주세요. \\nEX) 1\\n프로그램을 종료하고 싶다면 exit을 입력해주세요.\\n')\n",
    "        if selection=='1':\n",
    "            print('1번 작업 실행\\n')\n",
    "        elif selection=='2':\n",
    "            print('2번 작업 실행\\n')\n",
    "        elif selection=='3':\n",
    "            print('3번 작업 실행\\n')     \n",
    "        elif selection=='4':\n",
    "            print('4번 작업 실행\\n')\n",
    "        elif selection=='exit':\n",
    "            print('안녕히가세요. '+Username+'님\\n')\n",
    "            break\n",
    "        else:\n",
    "            print(\"해당 번호의 작업은 존재하지 않습니다. 다시 입력해주세요\\n\")\n",
    "            "
   ]
  },
  {
   "cell_type": "code",
   "execution_count": null,
   "metadata": {},
   "outputs": [
    {
     "name": "stdout",
     "output_type": "stream",
     "text": [
      "1- 논문 트렌드 워드클라우드 및 트렌트 키워드를 연구한 논문 원본 보기\n",
      "2- 논문 읽어주기 및 오디오파일 만들기\n",
      "3- 논문 주제 polarity 분석\n",
      "4- 논문 주제 별 분포도 보기\n",
      "\n",
      "어떤 작업을 하길 원하시나요? 원하는 작업의 번호를 입력해주세요. \n",
      "EX) 1\n",
      "프로그램을 종료하고 싶다면 exit을 입력해주세요.\n",
      "2\n",
      "2번 작업 실행\n",
      "\n",
      "1- 논문 트렌드 워드클라우드 및 트렌트 키워드를 연구한 논문 원본 보기\n",
      "2- 논문 읽어주기 및 오디오파일 만들기\n",
      "3- 논문 주제 polarity 분석\n",
      "4- 논문 주제 별 분포도 보기\n",
      "\n"
     ]
    }
   ],
   "source": [
    "selectionKo()"
   ]
  },
  {
   "cell_type": "code",
   "execution_count": null,
   "metadata": {},
   "outputs": [],
   "source": []
  }
 ],
 "metadata": {
  "kernelspec": {
   "display_name": "Python 3",
   "language": "python",
   "name": "python3"
  },
  "language_info": {
   "codemirror_mode": {
    "name": "ipython",
    "version": 3
   },
   "file_extension": ".py",
   "mimetype": "text/x-python",
   "name": "python",
   "nbconvert_exporter": "python",
   "pygments_lexer": "ipython3",
   "version": "3.7.6"
  }
 },
 "nbformat": 4,
 "nbformat_minor": 4
}
